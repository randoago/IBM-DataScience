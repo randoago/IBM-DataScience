{
 "cells": [
  {
   "cell_type": "markdown",
   "id": "901ebdf6-4e07-4729-af64-b708048d2ba0",
   "metadata": {},
   "source": [
    "**Exercise 1: Create a Jupyter Notebook**"
   ]
  },
  {
   "cell_type": "markdown",
   "id": "d1f91d2d-04ed-4420-8bec-629fc92d220e",
   "metadata": {},
   "source": [
    "**Exercise 2: Create markdown cell with title of the notebook**"
   ]
  },
  {
   "cell_type": "markdown",
   "id": "e7df621f-3a1b-4312-9e5c-da6998b4bbb8",
   "metadata": {
    "tags": []
   },
   "source": [
    "# Data Science Tools and Ecosystem "
   ]
  },
  {
   "cell_type": "markdown",
   "id": "9ba6c0c7-23bb-4f8a-acbc-71a32cceea9e",
   "metadata": {},
   "source": [
    "**Exercise 3 - Create a markdown cell for an introduction**"
   ]
  },
  {
   "cell_type": "markdown",
   "id": "ab3cfd7b-d168-4520-aa49-d750389af12d",
   "metadata": {},
   "source": [
    "In this notebook, Data Science Tools and Ecosystem are summarized."
   ]
  },
  {
   "cell_type": "markdown",
   "id": "3e9204d0-3194-4f78-b3a8-ac8c59f83693",
   "metadata": {},
   "source": [
    "**Objective:**\n",
    "* List popular languages that Data Scientists use.\n",
    "* List commonly used libraries used by Data Scientists.\n",
    "* Comment on Data Science tools.\n"
   ]
  },
  {
   "cell_type": "markdown",
   "id": "0885635e-ba17-45bc-b9d3-1ba4a1257b4c",
   "metadata": {},
   "source": [
    "**Exercise 4 - Create a markdown cell to list data science languages**"
   ]
  },
  {
   "cell_type": "markdown",
   "id": "7f7601d9-fe43-4eab-81fa-de3cb8dcd6cb",
   "metadata": {},
   "source": [
    "Some of the popular languages that Data Scientists use are:\n",
    "1. Python\n",
    "2. C/C++\n",
    "3. R.\n",
    "4. SQL\n",
    "5. Java\n",
    "6. Julia"
   ]
  },
  {
   "cell_type": "markdown",
   "id": "345e4153-6524-456d-8654-27a9331b6d5b",
   "metadata": {},
   "source": [
    "**Exercise 5 - Create a markdown cell to list data science libraries**"
   ]
  },
  {
   "cell_type": "markdown",
   "id": "cface376-6f45-45f1-b9d3-1039ba35ba94",
   "metadata": {},
   "source": [
    "Some of the commonly used libraries used by Data Scientists include:\n",
    "1. TensorFlow\n",
    "2. Pytorch\n",
    "3. Numpy\n",
    "4. Pandas\n",
    "5. Matplotlib\n",
    "6. Keras"
   ]
  },
  {
   "cell_type": "markdown",
   "id": "19b4cb1a-8ade-4175-876e-6edec46d849f",
   "metadata": {},
   "source": [
    "**Exercise 6 - Create a markdown cell with a table of Data Science tools**"
   ]
  },
  {
   "cell_type": "markdown",
   "id": "86239f6f-94f5-43c4-95a5-f37e0a565da7",
   "metadata": {},
   "source": [
    "Data Science Tools\n",
    "\n",
    "|Term|Definition|\n",
    "|----|----------|\n",
    "| Apache MLlib | Language that makes machine learning scalable |\n",
    "| Apache Spark | A general-purpose cluster-computing framework allowing you to process data using compute clusters |\n",
    "| API | Application programming interface allows communication between two pieces of software |\n",
    "| Caffe | A deep learning algorithm repository built with C++ with Python and Matlab bindings |\n",
    "|CDLA | Community Data License Agreement |"
   ]
  },
  {
   "cell_type": "markdown",
   "id": "401e653b-8515-4fb4-8c25-d689d72f261d",
   "metadata": {},
   "source": [
    "**Exercise 7 - Create a markdown cell introducing arithmetic expression examples**"
   ]
  },
  {
   "cell_type": "markdown",
   "id": "a3476fd4-1686-4342-837e-18f8e7fb3d9d",
   "metadata": {},
   "source": [
    "### Below are a few examples of evaluating arithmetic expressions in Python"
   ]
  },
  {
   "cell_type": "code",
   "execution_count": 1,
   "id": "240fd7b6-55a4-4f7f-804b-35b8594c663a",
   "metadata": {
    "tags": []
   },
   "outputs": [
    {
     "name": "stdout",
     "output_type": "stream",
     "text": [
      "56\n"
     ]
    }
   ],
   "source": [
    "Result = 33 + 23\n",
    "print(Result)"
   ]
  },
  {
   "cell_type": "code",
   "execution_count": 2,
   "id": "eaf36a31-8bc1-4ed6-a82a-c85d7469c38c",
   "metadata": {
    "tags": []
   },
   "outputs": [
    {
     "name": "stdout",
     "output_type": "stream",
     "text": [
      "759\n"
     ]
    }
   ],
   "source": [
    "Result = 33 * 23\n",
    "print(Result)"
   ]
  },
  {
   "cell_type": "markdown",
   "id": "fc8147d4-b44c-40c5-8e7b-a413b376e210",
   "metadata": {},
   "source": [
    "**Exercise 8 - Create a code cell to multiply and add numbers**"
   ]
  },
  {
   "cell_type": "code",
   "execution_count": 3,
   "id": "669b7766-fb86-4d32-a52c-dcff315f1e87",
   "metadata": {
    "tags": []
   },
   "outputs": [
    {
     "data": {
      "text/plain": [
       "17"
      ]
     },
     "execution_count": 3,
     "metadata": {},
     "output_type": "execute_result"
    }
   ],
   "source": [
    "#This a simple arithmetic expression to mutiply then add integers\n",
    "(3*4)+5"
   ]
  },
  {
   "cell_type": "markdown",
   "id": "80c2093f-b37a-4088-98a6-844082a25c0c",
   "metadata": {},
   "source": [
    "**Exercise 9 - Create a code cell to convert minutes to hours**"
   ]
  },
  {
   "cell_type": "code",
   "execution_count": 7,
   "id": "5fb9ff4a-bce3-4b8a-afeb-5bade28d0b6a",
   "metadata": {
    "tags": []
   },
   "outputs": [
    {
     "name": "stdout",
     "output_type": "stream",
     "text": [
      "3.3333333333333335 Hours\n"
     ]
    }
   ],
   "source": [
    "#This will convert 200 minutes to hours by diving by 60\n",
    "minutes = 200\n",
    "hours = minutes/60\n",
    "print(hours , \"Hours\")"
   ]
  },
  {
   "cell_type": "markdown",
   "id": "3239dab1-8814-4c30-94a7-790d0226a8f4",
   "metadata": {},
   "source": [
    "**Exercise 10 - Insert a markdown cell to list Objectives**"
   ]
  },
  {
   "cell_type": "markdown",
   "id": "efc9e39a-7549-435d-9788-56169f03f55a",
   "metadata": {},
   "source": [
    "**Exercise 3**"
   ]
  },
  {
   "cell_type": "markdown",
   "id": "c9230d3b-2eaa-44e4-abf1-c79d507d043e",
   "metadata": {},
   "source": [
    "**Exercise 10 - Insert a markdown cell to list Objectives**"
   ]
  },
  {
   "cell_type": "markdown",
   "id": "f1221837-c6c3-48cf-af5a-84a692ad00e4",
   "metadata": {},
   "source": [
    "## Author\n",
    "Rando"
   ]
  }
 ],
 "metadata": {
  "kernelspec": {
   "display_name": "Python",
   "language": "python",
   "name": "conda-env-python-py"
  },
  "language_info": {
   "codemirror_mode": {
    "name": "ipython",
    "version": 3
   },
   "file_extension": ".py",
   "mimetype": "text/x-python",
   "name": "python",
   "nbconvert_exporter": "python",
   "pygments_lexer": "ipython3",
   "version": "3.7.12"
  }
 },
 "nbformat": 4,
 "nbformat_minor": 5
}
